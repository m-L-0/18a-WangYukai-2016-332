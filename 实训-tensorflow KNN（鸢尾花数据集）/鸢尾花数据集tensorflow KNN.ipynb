{
 "cells": [
  {
   "cell_type": "code",
   "execution_count": 36,
   "metadata": {},
   "outputs": [],
   "source": [
    "import tensorflow as tf\n",
    "import numpy as np\n",
    "from sklearn.model_selection import train_test_split"
   ]
  },
  {
   "cell_type": "code",
   "execution_count": 37,
   "metadata": {},
   "outputs": [],
   "source": [
    "#导入数据\n",
    "from sklearn import datasets\n",
    "iris = datasets.load_iris()\n",
    "Range = np.random.randint(0,150,150)\n",
    "x = iris.data\n",
    "y = iris.target\n",
    "x,y = x[Range],y[Range]"
   ]
  },
  {
   "cell_type": "code",
   "execution_count": 59,
   "metadata": {
    "scrolled": false
   },
   "outputs": [
    {
     "name": "stdout",
     "output_type": "stream",
     "text": [
      "Test 0 Prediction: 0 True Class: 0\n",
      "Test 1 Prediction: 1 True Class: 1\n",
      "Test 2 Prediction: 1 True Class: 1\n",
      "Test 3 Prediction: 0 True Class: 0\n",
      "Test 4 Prediction: 2 True Class: 2\n",
      "Test 5 Prediction: 1 True Class: 1\n",
      "Test 6 Prediction: 2 True Class: 2\n",
      "Test 7 Prediction: 0 True Class: 0\n",
      "Test 8 Prediction: 0 True Class: 0\n",
      "Test 9 Prediction: 2 True Class: 2\n",
      "Test 10 Prediction: 1 True Class: 1\n",
      "Test 11 Prediction: 0 True Class: 0\n",
      "Test 12 Prediction: 2 True Class: 2\n",
      "Test 13 Prediction: 1 True Class: 1\n",
      "Test 14 Prediction: 1 True Class: 1\n",
      "Test 15 Prediction: 0 True Class: 0\n",
      "Test 16 Prediction: 1 True Class: 1\n",
      "Test 17 Prediction: 1 True Class: 1\n",
      "Test 18 Prediction: 0 True Class: 0\n",
      "Test 19 Prediction: 0 True Class: 0\n",
      "Test 20 Prediction: 1 True Class: 1\n",
      "Test 21 Prediction: 1 True Class: 1\n",
      "Test 22 Prediction: 1 True Class: 1\n",
      "Test 23 Prediction: 0 True Class: 0\n",
      "Test 24 Prediction: 2 True Class: 2\n",
      "Test 25 Prediction: 1 True Class: 1\n",
      "Test 26 Prediction: 0 True Class: 0\n",
      "Test 27 Prediction: 0 True Class: 0\n",
      "Test 28 Prediction: 1 True Class: 1\n",
      "Test 29 Prediction: 2 True Class: 2\n",
      "Acc: 100.0%\n"
     ]
    }
   ],
   "source": [
    "k = 1\n",
    "#切分数据\n",
    "X_train,X_test,Y_train,Y_test = train_test_split(iris.data,iris.target,test_size = 0.2,random_state = 1)\n",
    "\n",
    "\n",
    "#输入占位符\n",
    "x_train = tf.placeholder(\"float\", [None, 4])\n",
    "x_test = tf.placeholder(\"float\", [4])\n",
    "\n",
    "#距离（L1范式）\n",
    "distance = tf.reduce_sum(tf.abs(tf.add(x_train,tf.negative(x_test))), reduction_indices=1)\n",
    "\n",
    "\n",
    "correct = 0\n",
    "init = tf.global_variables_initializer()\n",
    "with tf.Session() as sess:\n",
    "    sess.run(init)\n",
    "    for i in range(len(X_test)):\n",
    "        #计算距离\n",
    "        dist = sess.run(distance,feed_dict = {x_train : X_train,x_test : X_test[i,:]})\n",
    "        #获取及最近的K个样本\n",
    "        index = np.argsort(dist)[:k]\n",
    "        candidate_Y = Y_train[index]\n",
    "        #投票\n",
    "        pred = np.argmax(np.bincount(candidate_Y))\n",
    "        print(\"Test\", i, \"Prediction:\", pred,\"True Class:\", Y_test[i])\n",
    "        if pred == Y_test[i]:\n",
    "            correct += 1\n",
    "    acc = correct/len(Y_test)\n",
    "    print(\"Acc:\",\"{}%\".format(acc * 100))"
   ]
  },
  {
   "cell_type": "code",
   "execution_count": 48,
   "metadata": {},
   "outputs": [
    {
     "data": {
      "text/plain": [
       "<tf.Tensor 'add_180:0' shape=() dtype=int32>"
      ]
     },
     "execution_count": 48,
     "metadata": {},
     "output_type": "execute_result"
    }
   ],
   "source": [
    "correct"
   ]
  }
 ],
 "metadata": {
  "kernelspec": {
   "display_name": "Python 3",
   "language": "python",
   "name": "python3"
  },
  "language_info": {
   "codemirror_mode": {
    "name": "ipython",
    "version": 3
   },
   "file_extension": ".py",
   "mimetype": "text/x-python",
   "name": "python",
   "nbconvert_exporter": "python",
   "pygments_lexer": "ipython3",
   "version": "3.6.4"
  }
 },
 "nbformat": 4,
 "nbformat_minor": 2
}
