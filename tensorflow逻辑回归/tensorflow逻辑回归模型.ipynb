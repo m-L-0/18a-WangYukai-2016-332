{
 "cells": [
  {
   "cell_type": "code",
   "execution_count": 2,
   "metadata": {
    "scrolled": true
   },
   "outputs": [],
   "source": [
    "import tensorflow as tf"
   ]
  },
  {
   "cell_type": "code",
   "execution_count": null,
   "metadata": {},
   "outputs": [],
   "source": [
    "#1 传参\n",
    "#2 代入sigmoid函数返回概率\n",
    "#3 按分类标准分类"
   ]
  },
  {
   "cell_type": "code",
   "execution_count": 12,
   "metadata": {},
   "outputs": [],
   "source": [
    "g1 = tf.Graph()\n",
    "with g1.as_default():\n",
    "    with tf.variable_scope('scope', reuse=False):\n",
    "        x = tf.Variable(tf.random_normal([100]),name = 'x')\n",
    "        y = tf.Variable([100],name = 'y')\n",
    "    with tf.variable_scope('scope',reuse=True):\n",
    "        sigmoid_x = tf.nn.sigmoid(tf.get_variable('x'))\n",
    "        for i in range(100):\n",
    "            if sigmoid_x[i]>0.5:\n",
    "                y[i] = 1\n",
    "            if sigmoid_x[i]<0.5:\n",
    "                y[i] = -1\n",
    "with tf.Session(graph=g1) as sess:\n",
    "    sess.run(tf.global_variables_initializer())"
   ]
  }
 ],
 "metadata": {
  "kernelspec": {
   "display_name": "Python 3",
   "language": "python",
   "name": "python3"
  },
  "language_info": {
   "codemirror_mode": {
    "name": "ipython",
    "version": 3
   },
   "file_extension": ".py",
   "mimetype": "text/x-python",
   "name": "python",
   "nbconvert_exporter": "python",
   "pygments_lexer": "ipython3",
   "version": "3.6.4"
  }
 },
 "nbformat": 4,
 "nbformat_minor": 2
}
