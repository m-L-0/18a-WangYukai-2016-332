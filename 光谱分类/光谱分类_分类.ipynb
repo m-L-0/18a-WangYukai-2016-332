{
 "cells": [
  {
   "cell_type": "code",
   "execution_count": 2,
   "metadata": {},
   "outputs": [],
   "source": [
    "from sklearn import preprocessing"
   ]
  },
  {
   "cell_type": "code",
   "execution_count": 8,
   "metadata": {},
   "outputs": [],
   "source": [
    "#导入数据\n",
    "import pandas as pd\n",
    "import numpy as np\n",
    "x = pd.read_csv('Data/X_train.csv')\n",
    "y = pd.read_csv('Data/Y_train.csv',header = None,skiprows=1)\n",
    "y = y[1]\n",
    "x = preprocessing.StandardScaler().fit_transform(np.float64(np.array(x)))\n",
    "y = np.float64(np.array(y))"
   ]
  },
  {
   "cell_type": "code",
   "execution_count": 13,
   "metadata": {},
   "outputs": [
    {
     "name": "stdout",
     "output_type": "stream",
     "text": [
      "done!\n"
     ]
    }
   ],
   "source": [
    "#使用SVM进行分类\n",
    "from sklearn import svm\n",
    "from sklearn.model_selection import train_test_split\n",
    "#划分数据集\n",
    "x_train,x_test,y_train,y_test = train_test_split(x,y,test_size = 0.3, random_state =10)\n",
    "cls = svm.SVC(decision_function_shape = 'ovo')\n",
    "cls.fit(x,y)\n",
    "\n",
    "print('done!')"
   ]
  },
  {
   "cell_type": "code",
   "execution_count": 14,
   "metadata": {},
   "outputs": [],
   "source": [
    "y_pred = cls.predict(x_test)"
   ]
  },
  {
   "cell_type": "code",
   "execution_count": 19,
   "metadata": {},
   "outputs": [
    {
     "name": "stdout",
     "output_type": "stream",
     "text": [
      "0.9682386910490857\n"
     ]
    }
   ],
   "source": [
    "#评价模型:输出F1分数\n",
    "from sklearn.metrics import f1_score\n",
    "f1 = f1_score(y_test,y_pred,average = 'micro')\n",
    "print(f1)"
   ]
  },
  {
   "cell_type": "code",
   "execution_count": 21,
   "metadata": {},
   "outputs": [],
   "source": [
    "#使用训练的模型预测样本\n",
    "Xtest = np.float64(np.array(pd.read_csv('Data/Test.csv')))\n",
    "Xtest1 = preprocessing.StandardScaler().fit_transform(Xtest)\n",
    "Ypred = cls.predict(Xtest1)\n",
    "path = 'Data/Y_pred.csv'\n",
    "Y = pd.DataFrame(Ypred)\n",
    "Y.to_csv(path)"
   ]
  },
  {
   "cell_type": "code",
   "execution_count": 18,
   "metadata": {},
   "outputs": [],
   "source": [
    "f1_score??"
   ]
  }
 ],
 "metadata": {
  "kernelspec": {
   "display_name": "Python 3",
   "language": "python",
   "name": "python3"
  },
  "language_info": {
   "codemirror_mode": {
    "name": "ipython",
    "version": 3
   },
   "file_extension": ".py",
   "mimetype": "text/x-python",
   "name": "python",
   "nbconvert_exporter": "python",
   "pygments_lexer": "ipython3",
   "version": "3.6.4"
  }
 },
 "nbformat": 4,
 "nbformat_minor": 2
}
