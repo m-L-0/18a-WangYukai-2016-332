{
 "cells": [
  {
   "cell_type": "code",
   "execution_count": 1,
   "metadata": {},
   "outputs": [],
   "source": [
    "#读取文件\n",
    "from scipy.io import loadmat\n",
    "import numpy as np\n",
    "import pandas as pd\n",
    "path1 = 'Data/data2_train.mat'\n",
    "path2 = 'Data/data3_train.mat'\n",
    "path3 = 'Data/data5_train.mat'\n",
    "path4 = 'Data/data6_train.mat'\n",
    "path5 = 'Data/data8_train.mat'\n",
    "path6 = 'Data/data10_train.mat'\n",
    "path7 = 'Data/data11_train.mat'\n",
    "path8 = 'Data/data12_train.mat'\n",
    "path9 = 'Data/data14_train.mat'\n",
    "data1 = loadmat(path1)\n",
    "data2 = loadmat(path2)\n",
    "data3 = loadmat(path3)\n",
    "data4 = loadmat(path4)\n",
    "data5 = loadmat(path5)\n",
    "data6 = loadmat(path6)\n",
    "data7 = loadmat(path7)\n",
    "data8 = loadmat(path8)\n",
    "data9 = loadmat(path9)"
   ]
  },
  {
   "cell_type": "code",
   "execution_count": 2,
   "metadata": {
    "scrolled": true
   },
   "outputs": [],
   "source": [
    "data_1 = np.array(data1['data2_train'])\n",
    "data_2 = np.array(data2['data3_train'])\n",
    "data_3 = np.array(data3['data5_train'])\n",
    "data_4 = np.array(data4['data6_train'])\n",
    "data_5 = np.array(data5['data8_train'])\n",
    "data_6 = np.array(data6['data10_train'])\n",
    "data_7 = np.array(data7['data11_train'])\n",
    "data_8 = np.array(data8['data12_train'])\n",
    "data_9 = np.array(data9['data14_train'])"
   ]
  },
  {
   "cell_type": "code",
   "execution_count": 3,
   "metadata": {},
   "outputs": [
    {
     "name": "stdout",
     "output_type": "stream",
     "text": [
      "(1071, 200) (622, 200) (362, 200) (547, 200) (358, 200) (729, 200) (1841, 200) (445, 200) (949, 200)\n"
     ]
    }
   ],
   "source": [
    "print(data_1.shape,data_2.shape,data_3.shape,data_4.shape,data_5.shape,data_6.shape,data_7.shape,data_8.shape,data_9.shape)"
   ]
  },
  {
   "cell_type": "code",
   "execution_count": 4,
   "metadata": {},
   "outputs": [
    {
     "name": "stdout",
     "output_type": "stream",
     "text": [
      "(6924, 200)\n"
     ]
    }
   ],
   "source": [
    "#制作训练csv\n",
    "tempXtr = np.vstack((data_1,data_2,data_3,data_4,data_5,data_6,data_7,data_8,data_9))\n",
    "pathx = 'Data/X_train.csv'\n",
    "xtr = pd.DataFrame(tempXtr)\n",
    "xtr.to_csv(pathx)\n",
    "print(tempXtr.shape)"
   ]
  },
  {
   "cell_type": "code",
   "execution_count": 8,
   "metadata": {},
   "outputs": [],
   "source": [
    "#制作标签.csv\n",
    "tempYtr = np.zeros([6924])\n",
    "for i in range(1071):\n",
    "    tempYtr[i] = 2\n",
    "for i in range(1072,1693):\n",
    "    tempYtr[i] = 3\n",
    "for i in range(1694,2055):\n",
    "    tempYtr[i] = 5\n",
    "for i in range(2056,2602):\n",
    "    tempYtr[i] = 6\n",
    "for i in range(2603,2960):\n",
    "    tempYtr[i] = 8\n",
    "for i in range(2961,3689):\n",
    "    tempYtr[i] = 10\n",
    "for i in range(3690,5530):\n",
    "    tempYtr[i] = 11\n",
    "for i in range(5531,5975):\n",
    "    tempYtr[i] = 12\n",
    "for i in range(5976,6924):\n",
    "    tempYtr[i] = 14\n",
    "pathy = 'Data/Y_train.csv'\n",
    "ytr = pd.DataFrame(tempYtr)\n",
    "ytr.to_csv(pathy)"
   ]
  },
  {
   "cell_type": "code",
   "execution_count": 7,
   "metadata": {},
   "outputs": [],
   "source": [
    "#处理测试集，策略，重写成csv文件，转换成ndarray\n",
    "patht = 'Data/data_test_final（1）.mat'\n",
    "datat = loadmat(patht)\n",
    "data_t = np.array(datat['data_test_final'])\n",
    "pathT = 'Data/Test.csv'\n",
    "tst = pd.DataFrame(data_t)\n",
    "tst.to_csv(pathT)"
   ]
  },
  {
   "cell_type": "code",
   "execution_count": 3,
   "metadata": {},
   "outputs": [
    {
     "data": {
      "text/plain": [
       "{'__globals__': [],\n",
       " '__header__': b'MATLAB 5.0 MAT-file, Platform: PCWIN64, Created on: Thu Dec 06 16:57:14 2018',\n",
       " '__version__': '1.0',\n",
       " 'data_test_final': array([[3158, 4122, 4145, ..., 1022, 1019, 1010],\n",
       "        [3023, 3737, 4027, ..., 1019, 1008, 1004],\n",
       "        [2743, 4388, 4591, ..., 1056, 1030, 1025],\n",
       "        ...,\n",
       "        [2561, 3881, 4051, ..., 1018,  998, 1015],\n",
       "        [2745, 4391, 4335, ..., 1046, 1029, 1019],\n",
       "        [3009, 3986, 3967, ..., 1011, 1009, 1000]], dtype=uint16)}"
      ]
     },
     "execution_count": 3,
     "metadata": {},
     "output_type": "execute_result"
    }
   ],
   "source": [
    "datat"
   ]
  }
 ],
 "metadata": {
  "kernelspec": {
   "display_name": "Python 3",
   "language": "python",
   "name": "python3"
  },
  "language_info": {
   "codemirror_mode": {
    "name": "ipython",
    "version": 3
   },
   "file_extension": ".py",
   "mimetype": "text/x-python",
   "name": "python",
   "nbconvert_exporter": "python",
   "pygments_lexer": "ipython3",
   "version": "3.6.4"
  }
 },
 "nbformat": 4,
 "nbformat_minor": 2
}
